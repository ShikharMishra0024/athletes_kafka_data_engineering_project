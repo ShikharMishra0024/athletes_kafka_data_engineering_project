{
 "cells": [
  {
   "cell_type": "code",
   "execution_count": 7,
   "id": "0457e9b4-d25f-4cef-98cc-0d5c94bedc41",
   "metadata": {},
   "outputs": [],
   "source": [
    "# from confluent_kafka import Consumer\n",
    "from s3fs import S3FileSystem\n",
    "import json\n",
    "from kafka_config import create_consumer"
   ]
  },
  {
   "cell_type": "code",
   "execution_count": 8,
   "id": "92ade19f-fa3e-4694-94e9-e1b0f1d0a412",
   "metadata": {},
   "outputs": [],
   "source": [
    "# def create_consumer(grp_id : str, client_id : str, topic : list[str]) -> Consumer:\n",
    "#     consumerConf = {\n",
    "#     \"bootstrap.servers\":\"broker_id:9092\",\\\n",
    "#     \"group.id\":grp_id,\\\n",
    "#     \"client.id\":client_id,\\\n",
    "#     \"enable.auto.commit\":True,\\\n",
    "#     \"auto.commit.interval.ms\":5000,\\\n",
    "#     \"auto.offset.reset\":\"earliest\"   \n",
    "#     }\n",
    "#     consumer = Consumer(consumerConf)\n",
    "#     consumer.subscribe(topic)\n",
    "#     return consumer"
   ]
  },
  {
   "cell_type": "code",
   "execution_count": 9,
   "id": "7ae78fa1-922d-434f-91b5-ecd3b4ceb9d7",
   "metadata": {},
   "outputs": [],
   "source": [
    "athlete_events_consumer = create_consumer(grp_id=\"sports1\", client_id=\"athlete_events_consumer\", topic=[\"athlete_events\"])"
   ]
  },
  {
   "cell_type": "code",
   "execution_count": 10,
   "id": "55573d31-2b15-4d99-92ae-9f1f26cdcdc1",
   "metadata": {},
   "outputs": [],
   "source": [
    "s3 = S3FileSystem()"
   ]
  },
  {
   "cell_type": "code",
   "execution_count": 11,
   "id": "c672fd00-9e0a-4d8b-94e8-ef33488976f6",
   "metadata": {},
   "outputs": [],
   "source": [
    "count = 0"
   ]
  },
  {
   "cell_type": "code",
   "execution_count": null,
   "id": "0969fe0f-1a50-4517-8081-bf96d9d91b13",
   "metadata": {},
   "outputs": [],
   "source": [
    "while True:\n",
    "    data = athlete_events_consumer.poll()\n",
    "    with s3.open(\"s3://athlete-data-ingestion-s3-shikhar/athlete_events/events_row_{}\".format(count), \"w\") as file:\n",
    "        json.dump(data.value().decode(\"utf-8\"), file)\n",
    "    count += 1"
   ]
  }
 ],
 "metadata": {
  "kernelspec": {
   "display_name": "Python 3 (ipykernel)",
   "language": "python",
   "name": "python3"
  },
  "language_info": {
   "codemirror_mode": {
    "name": "ipython",
    "version": 3
   },
   "file_extension": ".py",
   "mimetype": "text/x-python",
   "name": "python",
   "nbconvert_exporter": "python",
   "pygments_lexer": "ipython3",
   "version": "3.12.3"
  }
 },
 "nbformat": 4,
 "nbformat_minor": 5
}
