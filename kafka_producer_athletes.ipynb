{
 "cells": [
  {
   "cell_type": "code",
   "execution_count": 1,
   "id": "b1d6a2bd-6d9f-475a-b834-b99beb458bfc",
   "metadata": {},
   "outputs": [],
   "source": [
    "# from confluent_kafka import Producer\n",
    "import json\n",
    "from time import sleep\n",
    "import logging\n",
    "from kafka_config import create_producer"
   ]
  },
  {
   "cell_type": "code",
   "execution_count": 2,
   "id": "e889eb6e-e06a-48ab-a663-77c6925cb592",
   "metadata": {},
   "outputs": [],
   "source": [
    "logging.basicConfig(\n",
    "    level=logging.INFO,\n",
    "    format='%(asctime)s - %(name)s - %(levelname)s - %(message)s'\n",
    ")"
   ]
  },
  {
   "cell_type": "code",
   "execution_count": 3,
   "id": "af450070-dc97-4d69-860c-2a7dca6c046e",
   "metadata": {},
   "outputs": [],
   "source": [
    "# conf = {\"bootstrap.servers\":\"broker_id:9092\",\\\n",
    "#         \"client.id\":\"producer-2\",\\\n",
    "#         \"linger.ms\":1000,\\\n",
    "#         \"batch.num.messages\":100,\\\n",
    "#         \"compression.type\":\"snappy\",\\\n",
    "#         \"acks\":\"all\",\\\n",
    "#         \"message.timeout.ms\":300000,\\\n",
    "#         \"request.timeout.ms\":30000,\\\n",
    "#         \"retry.backoff.ms\":500,\\\n",
    "#         \"retry.backoff.max.ms\":2000,\\\n",
    "#         \"enable.idempotence\":True}\n",
    "# producer = Producer(conf)\n",
    "producer = create_producer(client_id = \"producer-2\")"
   ]
  },
  {
   "cell_type": "code",
   "execution_count": 4,
   "id": "9d796b2a-3638-46e7-965d-cedd6f3854c4",
   "metadata": {},
   "outputs": [],
   "source": [
    "def value_serializer(message):\n",
    "    return json.dumps(message[:-1]).encode(\"utf-8\")"
   ]
  },
  {
   "cell_type": "code",
   "execution_count": 5,
   "id": "ce8b52a8-eaf2-4e4a-b59b-1eab39b9a982",
   "metadata": {},
   "outputs": [],
   "source": [
    "athletes = open(r\"D:\\SQL telegram\\Project 2 olympic history\\athletes.csv\")"
   ]
  },
  {
   "cell_type": "code",
   "execution_count": 6,
   "id": "ff2143c0-9489-4f3e-a001-b8b8e01b33d8",
   "metadata": {},
   "outputs": [],
   "source": [
    "while True:\n",
    "    athletes_product = athletes.readline()\n",
    "    if athletes_product == \"\":\n",
    "        if athletes.tell() == athletes.seek(0,2):\n",
    "            athletes.close()\n",
    "            break\n",
    "        else:\n",
    "            continue\n",
    "            \n",
    "    producer.produce(\"athletes\", value_serializer(athletes_product))\n",
    "    sleep(0.0001)\n",
    "    producer.poll(0)"
   ]
  },
  {
   "cell_type": "code",
   "execution_count": 7,
   "id": "a033f248-ddbb-408b-85fe-29337fa57c10",
   "metadata": {},
   "outputs": [],
   "source": [
    "remaining_messages = producer.flush(timeout=30)\n",
    "if remaining_messages > 0:\n",
    "    logger.warning(f\"{remaining_messages} messages may not have been delivered\")"
   ]
  },
  {
   "cell_type": "code",
   "execution_count": null,
   "id": "1d0b953c-660c-4949-a336-a76ac599b793",
   "metadata": {},
   "outputs": [],
   "source": []
  }
 ],
 "metadata": {
  "kernelspec": {
   "display_name": "Python 3 (ipykernel)",
   "language": "python",
   "name": "python3"
  },
  "language_info": {
   "codemirror_mode": {
    "name": "ipython",
    "version": 3
   },
   "file_extension": ".py",
   "mimetype": "text/x-python",
   "name": "python",
   "nbconvert_exporter": "python",
   "pygments_lexer": "ipython3",
   "version": "3.12.3"
  }
 },
 "nbformat": 4,
 "nbformat_minor": 5
}
