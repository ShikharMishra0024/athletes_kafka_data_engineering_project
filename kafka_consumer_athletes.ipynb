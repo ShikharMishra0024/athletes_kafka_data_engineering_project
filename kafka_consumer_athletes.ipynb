{
 "cells": [
  {
   "cell_type": "code",
   "execution_count": 3,
   "id": "39822502-ba7e-483e-ab1f-dfe10a713c1e",
   "metadata": {},
   "outputs": [],
   "source": [
    "# from confluent_kafka import Consumer\n",
    "from s3fs import S3FileSystem\n",
    "import json\n",
    "from kafka_config import create_consumer"
   ]
  },
  {
   "cell_type": "code",
   "execution_count": 4,
   "id": "3774a927-5b0d-4e71-8c35-545d47af72ca",
   "metadata": {},
   "outputs": [],
   "source": [
    "# def create_consumer(grp_id : str, client_id : str, topic : list[str]) -> Consumer:\n",
    "#     consumerConf = {\n",
    "#     \"bootstrap.servers\":\"broker_id:9092\",\\\n",
    "#     \"group.id\":grp_id,\\\n",
    "#     \"client.id\":client_id,\\\n",
    "#     \"enable.auto.commit\":True,\\\n",
    "#     \"auto.commit.interval.ms\":5000,\\\n",
    "#     \"auto.offset.reset\":\"latest\"\n",
    "#     }\n",
    "#     consumer = Consumer(consumerConf)\n",
    "#     consumer.subscribe(topic)\n",
    "#     return consumer"
   ]
  },
  {
   "cell_type": "code",
   "execution_count": 5,
   "id": "59c2f0ce-2300-457b-8a98-fb2c2ba25d54",
   "metadata": {},
   "outputs": [],
   "source": [
    "athletes_consumer = create_consumer(grp_id=\"sports\", client_id=\"athletes_consumer\", topic=[\"athletes\"])"
   ]
  },
  {
   "cell_type": "code",
   "execution_count": 6,
   "id": "8ce51801-2a66-4ccf-9631-d0a131728df3",
   "metadata": {},
   "outputs": [],
   "source": [
    "s3 = S3FileSystem()"
   ]
  },
  {
   "cell_type": "code",
   "execution_count": 7,
   "id": "0cc7b1b8-352e-41b6-bc14-7c5d306d1ef8",
   "metadata": {},
   "outputs": [],
   "source": [
    "count = 0"
   ]
  },
  {
   "cell_type": "code",
   "execution_count": null,
   "id": "f10e4a6d-2e3e-4ae3-8b1d-b4a122d00611",
   "metadata": {
    "scrolled": true
   },
   "outputs": [],
   "source": [
    "while True:\n",
    "    data = athletes_consumer.poll()  # Fetch batch\n",
    "    if data is None:\n",
    "        continue\n",
    "            \n",
    "    with s3.open(\"s3://athlete-data-ingestion-s3-shikhar/athletes/athletes_row_{}\".format(count), \"w\") as file:\n",
    "        json.dump(data.value().decode(\"utf-8\"), file)\n",
    "    count += 1"
   ]
  }
 ],
 "metadata": {
  "kernelspec": {
   "display_name": "Python 3 (ipykernel)",
   "language": "python",
   "name": "python3"
  },
  "language_info": {
   "codemirror_mode": {
    "name": "ipython",
    "version": 3
   },
   "file_extension": ".py",
   "mimetype": "text/x-python",
   "name": "python",
   "nbconvert_exporter": "python",
   "pygments_lexer": "ipython3",
   "version": "3.12.3"
  }
 },
 "nbformat": 4,
 "nbformat_minor": 5
}
